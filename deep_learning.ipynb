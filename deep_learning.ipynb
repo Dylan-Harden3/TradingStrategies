{
  "nbformat": 4,
  "nbformat_minor": 0,
  "metadata": {
    "colab": {
      "provenance": [],
      "gpuType": "T4"
    },
    "kernelspec": {
      "name": "python3",
      "display_name": "Python 3"
    },
    "language_info": {
      "name": "python"
    },
    "accelerator": "GPU"
  },
  "cells": [
    {
      "cell_type": "code",
      "source": [
        "!pip install ta"
      ],
      "metadata": {
        "colab": {
          "base_uri": "https://localhost:8080/"
        },
        "id": "nmAPcn3HVVqW",
        "outputId": "a4123d3c-7cbe-47e8-ed52-574a13f2a6c2"
      },
      "execution_count": 1,
      "outputs": [
        {
          "output_type": "stream",
          "name": "stdout",
          "text": [
            "Requirement already satisfied: ta in /usr/local/lib/python3.10/dist-packages (0.11.0)\n",
            "Requirement already satisfied: numpy in /usr/local/lib/python3.10/dist-packages (from ta) (1.25.2)\n",
            "Requirement already satisfied: pandas in /usr/local/lib/python3.10/dist-packages (from ta) (2.0.3)\n",
            "Requirement already satisfied: python-dateutil>=2.8.2 in /usr/local/lib/python3.10/dist-packages (from pandas->ta) (2.8.2)\n",
            "Requirement already satisfied: pytz>=2020.1 in /usr/local/lib/python3.10/dist-packages (from pandas->ta) (2023.4)\n",
            "Requirement already satisfied: tzdata>=2022.1 in /usr/local/lib/python3.10/dist-packages (from pandas->ta) (2024.1)\n",
            "Requirement already satisfied: six>=1.5 in /usr/local/lib/python3.10/dist-packages (from python-dateutil>=2.8.2->pandas->ta) (1.16.0)\n"
          ]
        }
      ]
    },
    {
      "cell_type": "code",
      "source": [
        "!pip install -q kaggle"
      ],
      "metadata": {
        "id": "0uuZzdWqVrGn"
      },
      "execution_count": 2,
      "outputs": []
    },
    {
      "cell_type": "code",
      "source": [
        "from google.colab import files\n",
        "files.upload()"
      ],
      "metadata": {
        "id": "M1hcnLY_Vs6h",
        "colab": {
          "base_uri": "https://localhost:8080/",
          "height": 55
        },
        "outputId": "2a63a9de-6e76-4b23-fa8a-7c1edf71b4d7"
      },
      "execution_count": 3,
      "outputs": [
        {
          "output_type": "display_data",
          "data": {
            "text/plain": [
              "<IPython.core.display.HTML object>"
            ],
            "text/html": [
              "\n",
              "     <input type=\"file\" id=\"files-aacf9d63-22b9-4d3c-9004-65cb59a0c72b\" name=\"files[]\" multiple disabled\n",
              "        style=\"border:none\" />\n",
              "     <output id=\"result-aacf9d63-22b9-4d3c-9004-65cb59a0c72b\">\n",
              "      Upload widget is only available when the cell has been executed in the\n",
              "      current browser session. Please rerun this cell to enable.\n",
              "      </output>\n",
              "      <script>// Copyright 2017 Google LLC\n",
              "//\n",
              "// Licensed under the Apache License, Version 2.0 (the \"License\");\n",
              "// you may not use this file except in compliance with the License.\n",
              "// You may obtain a copy of the License at\n",
              "//\n",
              "//      http://www.apache.org/licenses/LICENSE-2.0\n",
              "//\n",
              "// Unless required by applicable law or agreed to in writing, software\n",
              "// distributed under the License is distributed on an \"AS IS\" BASIS,\n",
              "// WITHOUT WARRANTIES OR CONDITIONS OF ANY KIND, either express or implied.\n",
              "// See the License for the specific language governing permissions and\n",
              "// limitations under the License.\n",
              "\n",
              "/**\n",
              " * @fileoverview Helpers for google.colab Python module.\n",
              " */\n",
              "(function(scope) {\n",
              "function span(text, styleAttributes = {}) {\n",
              "  const element = document.createElement('span');\n",
              "  element.textContent = text;\n",
              "  for (const key of Object.keys(styleAttributes)) {\n",
              "    element.style[key] = styleAttributes[key];\n",
              "  }\n",
              "  return element;\n",
              "}\n",
              "\n",
              "// Max number of bytes which will be uploaded at a time.\n",
              "const MAX_PAYLOAD_SIZE = 100 * 1024;\n",
              "\n",
              "function _uploadFiles(inputId, outputId) {\n",
              "  const steps = uploadFilesStep(inputId, outputId);\n",
              "  const outputElement = document.getElementById(outputId);\n",
              "  // Cache steps on the outputElement to make it available for the next call\n",
              "  // to uploadFilesContinue from Python.\n",
              "  outputElement.steps = steps;\n",
              "\n",
              "  return _uploadFilesContinue(outputId);\n",
              "}\n",
              "\n",
              "// This is roughly an async generator (not supported in the browser yet),\n",
              "// where there are multiple asynchronous steps and the Python side is going\n",
              "// to poll for completion of each step.\n",
              "// This uses a Promise to block the python side on completion of each step,\n",
              "// then passes the result of the previous step as the input to the next step.\n",
              "function _uploadFilesContinue(outputId) {\n",
              "  const outputElement = document.getElementById(outputId);\n",
              "  const steps = outputElement.steps;\n",
              "\n",
              "  const next = steps.next(outputElement.lastPromiseValue);\n",
              "  return Promise.resolve(next.value.promise).then((value) => {\n",
              "    // Cache the last promise value to make it available to the next\n",
              "    // step of the generator.\n",
              "    outputElement.lastPromiseValue = value;\n",
              "    return next.value.response;\n",
              "  });\n",
              "}\n",
              "\n",
              "/**\n",
              " * Generator function which is called between each async step of the upload\n",
              " * process.\n",
              " * @param {string} inputId Element ID of the input file picker element.\n",
              " * @param {string} outputId Element ID of the output display.\n",
              " * @return {!Iterable<!Object>} Iterable of next steps.\n",
              " */\n",
              "function* uploadFilesStep(inputId, outputId) {\n",
              "  const inputElement = document.getElementById(inputId);\n",
              "  inputElement.disabled = false;\n",
              "\n",
              "  const outputElement = document.getElementById(outputId);\n",
              "  outputElement.innerHTML = '';\n",
              "\n",
              "  const pickedPromise = new Promise((resolve) => {\n",
              "    inputElement.addEventListener('change', (e) => {\n",
              "      resolve(e.target.files);\n",
              "    });\n",
              "  });\n",
              "\n",
              "  const cancel = document.createElement('button');\n",
              "  inputElement.parentElement.appendChild(cancel);\n",
              "  cancel.textContent = 'Cancel upload';\n",
              "  const cancelPromise = new Promise((resolve) => {\n",
              "    cancel.onclick = () => {\n",
              "      resolve(null);\n",
              "    };\n",
              "  });\n",
              "\n",
              "  // Wait for the user to pick the files.\n",
              "  const files = yield {\n",
              "    promise: Promise.race([pickedPromise, cancelPromise]),\n",
              "    response: {\n",
              "      action: 'starting',\n",
              "    }\n",
              "  };\n",
              "\n",
              "  cancel.remove();\n",
              "\n",
              "  // Disable the input element since further picks are not allowed.\n",
              "  inputElement.disabled = true;\n",
              "\n",
              "  if (!files) {\n",
              "    return {\n",
              "      response: {\n",
              "        action: 'complete',\n",
              "      }\n",
              "    };\n",
              "  }\n",
              "\n",
              "  for (const file of files) {\n",
              "    const li = document.createElement('li');\n",
              "    li.append(span(file.name, {fontWeight: 'bold'}));\n",
              "    li.append(span(\n",
              "        `(${file.type || 'n/a'}) - ${file.size} bytes, ` +\n",
              "        `last modified: ${\n",
              "            file.lastModifiedDate ? file.lastModifiedDate.toLocaleDateString() :\n",
              "                                    'n/a'} - `));\n",
              "    const percent = span('0% done');\n",
              "    li.appendChild(percent);\n",
              "\n",
              "    outputElement.appendChild(li);\n",
              "\n",
              "    const fileDataPromise = new Promise((resolve) => {\n",
              "      const reader = new FileReader();\n",
              "      reader.onload = (e) => {\n",
              "        resolve(e.target.result);\n",
              "      };\n",
              "      reader.readAsArrayBuffer(file);\n",
              "    });\n",
              "    // Wait for the data to be ready.\n",
              "    let fileData = yield {\n",
              "      promise: fileDataPromise,\n",
              "      response: {\n",
              "        action: 'continue',\n",
              "      }\n",
              "    };\n",
              "\n",
              "    // Use a chunked sending to avoid message size limits. See b/62115660.\n",
              "    let position = 0;\n",
              "    do {\n",
              "      const length = Math.min(fileData.byteLength - position, MAX_PAYLOAD_SIZE);\n",
              "      const chunk = new Uint8Array(fileData, position, length);\n",
              "      position += length;\n",
              "\n",
              "      const base64 = btoa(String.fromCharCode.apply(null, chunk));\n",
              "      yield {\n",
              "        response: {\n",
              "          action: 'append',\n",
              "          file: file.name,\n",
              "          data: base64,\n",
              "        },\n",
              "      };\n",
              "\n",
              "      let percentDone = fileData.byteLength === 0 ?\n",
              "          100 :\n",
              "          Math.round((position / fileData.byteLength) * 100);\n",
              "      percent.textContent = `${percentDone}% done`;\n",
              "\n",
              "    } while (position < fileData.byteLength);\n",
              "  }\n",
              "\n",
              "  // All done.\n",
              "  yield {\n",
              "    response: {\n",
              "      action: 'complete',\n",
              "    }\n",
              "  };\n",
              "}\n",
              "\n",
              "scope.google = scope.google || {};\n",
              "scope.google.colab = scope.google.colab || {};\n",
              "scope.google.colab._files = {\n",
              "  _uploadFiles,\n",
              "  _uploadFilesContinue,\n",
              "};\n",
              "})(self);\n",
              "</script> "
            ]
          },
          "metadata": {}
        },
        {
          "output_type": "execute_result",
          "data": {
            "text/plain": [
              "{}"
            ]
          },
          "metadata": {},
          "execution_count": 3
        }
      ]
    },
    {
      "cell_type": "code",
      "source": [
        "!mkdir ~/.kaggle\n",
        "!cp kaggle.json ~/.kaggle/\n",
        "!chmod 600 ~/.kaggle/kaggle.json"
      ],
      "metadata": {
        "id": "ZB8nvb-4Vt3n"
      },
      "execution_count": 4,
      "outputs": []
    },
    {
      "cell_type": "code",
      "source": [
        "!kaggle datasets download -d borismarjanovic/price-volume-data-for-all-us-stocks-etfs"
      ],
      "metadata": {
        "colab": {
          "base_uri": "https://localhost:8080/"
        },
        "id": "e9M2rQGhVu4z",
        "outputId": "e1e6cb1d-0852-403f-f9d8-eff56ffc4d78"
      },
      "execution_count": 5,
      "outputs": [
        {
          "output_type": "stream",
          "name": "stdout",
          "text": [
            "Dataset URL: https://www.kaggle.com/datasets/borismarjanovic/price-volume-data-for-all-us-stocks-etfs\n",
            "License(s): CC0-1.0\n",
            "price-volume-data-for-all-us-stocks-etfs.zip: Skipping, found more recently modified local copy (use --force to force download)\n"
          ]
        }
      ]
    },
    {
      "cell_type": "code",
      "source": [
        "import zipfile\n",
        "zip_ref = zipfile.ZipFile('price-volume-data-for-all-us-stocks-etfs.zip', 'r')\n",
        "zip_ref.extractall('/content')\n",
        "zip_ref.close()"
      ],
      "metadata": {
        "id": "ynqz90o8VwXA"
      },
      "execution_count": 7,
      "outputs": []
    },
    {
      "cell_type": "code",
      "source": [
        "import pandas as pd\n",
        "tickers = pd.read_csv('SP Tickers.csv')\n",
        "tickers = set(tickers['symbol'].tolist())"
      ],
      "metadata": {
        "id": "yEh6hq9bTt97"
      },
      "execution_count": 6,
      "outputs": []
    },
    {
      "cell_type": "code",
      "source": [
        "from data_preparation import *\n",
        "from plotting import *\n",
        "from strategies import *\n",
        "from backtest import *"
      ],
      "metadata": {
        "id": "vcy8f0LYT2it"
      },
      "execution_count": 7,
      "outputs": []
    },
    {
      "cell_type": "code",
      "source": [
        "stock_df = load_df(tickers)"
      ],
      "metadata": {
        "id": "M-kQrqySVddz"
      },
      "execution_count": 8,
      "outputs": []
    },
    {
      "cell_type": "code",
      "source": [
        "plot_entries_per_year(stock_df)"
      ],
      "metadata": {
        "colab": {
          "base_uri": "https://localhost:8080/",
          "height": 675
        },
        "id": "HGICnscNVjJE",
        "outputId": "5ed0051c-0fb5-4386-e5f7-410ebd39c3b3"
      },
      "execution_count": null,
      "outputs": [
        {
          "output_type": "stream",
          "name": "stderr",
          "text": [
            "/content/plotting.py:20: FutureWarning: \n",
            "\n",
            "Passing `palette` without assigning `hue` is deprecated and will be removed in v0.14.0. Assign the `x` variable to `hue` and set `legend=False` for the same effect.\n",
            "\n",
            "  sns.barplot(x='Year', y='Count', data=rows_per_year, palette='viridis')\n"
          ]
        },
        {
          "output_type": "display_data",
          "data": {
            "text/plain": [
              "<Figure size 1000x600 with 1 Axes>"
            ],
            "image/png": "[encoded data removed]"
          },
          "metadata": {}
        }
      ]
    },
    {
      "cell_type": "code",
      "source": [
        "TRAINING_START_DATE = pd.to_datetime(\"2010-01-01\")\n",
        "TRAINING_END_DATE = pd.to_datetime(\"2012-12-31\")\n",
        "\n",
        "BACKTEST_START_DATE = pd.to_datetime(\"2013-01-01\")\n",
        "BACKTEST_END_DATE = pd.to_datetime(\"2017-12-31\")"
      ],
      "metadata": {
        "id": "y7RKkKtXV6RA"
      },
      "execution_count": 9,
      "outputs": []
    },
    {
      "cell_type": "code",
      "source": [
        "X_train, X_test, y_train, y_test = get_train_test(stock_df, tickers, TRAINING_START_DATE, TRAINING_END_DATE, task='regression')"
      ],
      "metadata": {
        "id": "XdhfHA_4V7oJ"
      },
      "execution_count": null,
      "outputs": []
    },
    {
      "cell_type": "code",
      "source": [
        "import torch\n",
        "device = torch.device(\"cuda\" if torch.cuda.is_available() else \"cpu\")"
      ],
      "metadata": {
        "id": "2TwnyBqbYgTT"
      },
      "execution_count": 10,
      "outputs": []
    },
    {
      "cell_type": "code",
      "source": [
        "X_train_tensor = torch.FloatTensor(X_train.values).to(device)\n",
        "y_train_tensor = torch.FloatTensor(y_train.values.reshape(-1, 1)).to(device)\n",
        "X_val_tensor = torch.FloatTensor(X_test.values).to(device)\n",
        "y_val_tensor = torch.FloatTensor(y_test.values.reshape(-1, 1)).to(device)\n",
        "\n",
        "train_dataset = torch.utils.data.TensorDataset(X_train_tensor, y_train_tensor)"
      ],
      "metadata": {
        "id": "15AWV8a8l489"
      },
      "execution_count": null,
      "outputs": []
    },
    {
      "cell_type": "code",
      "source": [
        "import torch\n",
        "import torch.nn as nn\n",
        "import torch.optim as optim\n",
        "from sklearn.metrics import accuracy_score\n",
        "import numpy as np\n",
        "import pandas as pd\n",
        "\n",
        "class MLP(nn.Module):\n",
        "    def __init__(self, input_size, hidden_layers, output_size=1, normalization=None):\n",
        "        super(MLP, self).__init__()\n",
        "        self.layers = nn.ModuleList()\n",
        "\n",
        "        # Input layer\n",
        "        self.layers.append(nn.Linear(input_size, hidden_layers[0]))\n",
        "\n",
        "        # Hidden layers\n",
        "        for i in range(len(hidden_layers) - 1):\n",
        "            self.layers.append(nn.Linear(hidden_layers[i], hidden_layers[i+1]))\n",
        "            if normalization == 'BN':\n",
        "                self.layers.append(nn.BatchNorm1d(hidden_layers[i+1]))\n",
        "            elif normalization == 'LN':\n",
        "                self.layers.append(nn.LayerNorm(hidden_layers[i+1]))\n",
        "            self.layers.append(nn.ReLU())\n",
        "\n",
        "        # Output layer\n",
        "        self.layers.append(nn.Linear(hidden_layers[-1], output_size))\n",
        "\n",
        "    def forward(self, x):\n",
        "        for layer in self.layers:\n",
        "            x = layer(x)\n",
        "        return x\n",
        "\n",
        "def train_mlp(X_train, y_train, X_val, y_val, train_loader, hidden_layers=[64, 32], normalization=None, lr=0.001, epochs=100, early_stopping_patience=2, log=True):\n",
        "    # Initialize the model\n",
        "    input_size = X_train.shape[1]\n",
        "    model = MLP(input_size, hidden_layers, normalization=normalization).to(device)\n",
        "\n",
        "    # Loss function and optimizer\n",
        "    criterion = nn.MSELoss()\n",
        "    optimizer = optim.Adam(model.parameters(), lr=lr)\n",
        "\n",
        "    # Early stopping variables\n",
        "    best_val_loss = float('inf')\n",
        "    epochs_without_improvement = 0\n",
        "\n",
        "    for epoch in range(epochs):\n",
        "        model.train()\n",
        "        for batch_X, batch_y in train_loader:\n",
        "            optimizer.zero_grad()\n",
        "            outputs = model(batch_X)\n",
        "            loss = criterion(outputs, batch_y)\n",
        "            loss.backward()\n",
        "            optimizer.step()\n",
        "\n",
        "        # Validation\n",
        "        model.eval()\n",
        "        with torch.no_grad():\n",
        "            val_outputs = model(X_val_tensor)\n",
        "            val_loss = criterion(val_outputs, y_val_tensor)\n",
        "\n",
        "        if log:\n",
        "          print(f\"Epoch {epoch+1}/{epochs}, Validation Loss: {val_loss.item():.4f}\")\n",
        "\n",
        "        # Early stopping check\n",
        "        if val_loss < best_val_loss:\n",
        "            best_val_loss = val_loss\n",
        "            epochs_without_improvement = 0\n",
        "            torch.save(model.state_dict(), 'best_model.pth')\n",
        "        else:\n",
        "            epochs_without_improvement += 1\n",
        "            if epochs_without_improvement >= early_stopping_patience:\n",
        "                if log:\n",
        "                  print(f\"Early stopping triggered after {epoch+1} epochs\")\n",
        "                break\n",
        "\n",
        "    # Load the best model\n",
        "    model.load_state_dict(torch.load('best_model.pth'))\n",
        "    return model\n",
        "\n",
        "def predict(model, X):\n",
        "    device = next(model.parameters()).device\n",
        "    model.eval()\n",
        "    X_tensor = torch.FloatTensor(X.values).to(device)\n",
        "    with torch.no_grad():\n",
        "        outputs = model(X_tensor)\n",
        "    return outputs"
      ],
      "metadata": {
        "id": "RS4GH3SyXMW9"
      },
      "execution_count": 15,
      "outputs": []
    },
    {
      "cell_type": "code",
      "source": [
        "from sklearn.metrics import mean_squared_error\n",
        "import random\n",
        "best_model, best_val_loss = None, float('inf')\n",
        "\n",
        "num_hidden_layers_range = [2, 3, 4, 5]\n",
        "hidden_layer_sizes = [128, 256, 512, 1024]\n",
        "batch_sizes = [128, 256]\n",
        "learning_rates = [0.0005, 0.0001]\n",
        "\n",
        "for _ in range(20):\n",
        "    # Randomly select number of hidden layers\n",
        "    num_hidden_layers = random.choice(num_hidden_layers_range)\n",
        "    hidden_layers = [random.choice(hidden_layer_sizes)] * num_hidden_layers\n",
        "\n",
        "    batch_size = random.choice(batch_sizes)\n",
        "    learning_rate = random.choice(learning_rates)\n",
        "\n",
        "    train_loader = torch.utils.data.DataLoader(train_dataset, batch_size=batch_size, shuffle=True)\n",
        "\n",
        "    model = train_mlp(X_train, y_train, X_test, y_test, train_loader, hidden_layers, lr=learning_rate, normalization='LN', log=False)\n",
        "    y_pred = predict(model, X_test)\n",
        "\n",
        "    if mean_squared_error(y_test, y_pred.cpu()) < best_val_loss:\n",
        "        best_model = model\n",
        "        best_val_loss = mean_squared_error(y_test, y_pred.cpu())\n",
        "        print(f\"Hidden Layers: {hidden_layers}, Batch Size: {batch_size}, Learning Rate: {learning_rate}\")\n",
        "        print(f\"Best Validation Loss: {best_val_loss}\")"
      ],
      "metadata": {
        "colab": {
          "base_uri": "https://localhost:8080/"
        },
        "id": "qUdE_0PrYYSO",
        "outputId": "e9ce9ffe-781e-43dc-9b08-29e7737ccc8a"
      },
      "execution_count": null,
      "outputs": [
        {
          "output_type": "stream",
          "name": "stdout",
          "text": [
            "Hidden Layers: [512, 512, 512, 512, 512], Batch Size: 256, Learning Rate: 0.0005\n",
            "Best Validation Loss: 501.7263018524265\n",
            "Hidden Layers: [256, 256], Batch Size: 256, Learning Rate: 0.0005\n",
            "Best Validation Loss: 437.38222298070275\n",
            "Hidden Layers: [128, 128, 128], Batch Size: 128, Learning Rate: 0.0001\n",
            "Best Validation Loss: 411.3344562462694\n"
          ]
        }
      ]
    },
    {
      "cell_type": "code",
      "source": [
        "from sklearn.metrics import mean_squared_error\n",
        "import random\n",
        "\n",
        "best_model, best_val_loss = None, float('inf')\n",
        "\n",
        "for n_hidden_layers in [2, 3, 4]:\n",
        "  for batch_size in [64, 128, 256]:\n",
        "    for learning_rate in [0.0001, 0.0005]:\n",
        "      for hidden_size in [64, 128, 256]:\n",
        "        train_loader = torch.utils.data.DataLoader(train_dataset, batch_size=batch_size, shuffle=True)\n",
        "        hidden_layers = [hidden_size] * n_hidden_layers\n",
        "\n",
        "        print(f\"Hidden Layers: {hidden_layers}, Batch Size: {batch_size}, Learning Rate: {learning_rate}\")\n",
        "\n",
        "        model = train_mlp(X_train, y_train, X_test, y_test, train_loader, hidden_layers, lr=learning_rate, normalization='LN', log=False)\n",
        "        y_pred = predict(model, X_test)\n",
        "\n",
        "        if mean_squared_error(y_test, y_pred.cpu()) < best_val_loss:\n",
        "            best_model = model\n",
        "            best_val_loss = mean_squared_error(y_test, y_pred.cpu())\n",
        "            print(f\"New Best Validation Loss: {best_val_loss}\")"
      ],
      "metadata": {
        "colab": {
          "base_uri": "https://localhost:8080/"
        },
        "id": "e5j1pjsv4ZBB",
        "outputId": "b1445bfa-1b8c-47aa-d908-d0b8ca7c5556"
      },
      "execution_count": null,
      "outputs": [
        {
          "output_type": "stream",
          "name": "stdout",
          "text": [
            "Hidden Layers: [64, 64], Batch Size: 64, Learning Rate: 0.0001\n",
            "New Best Validation Loss: 506.20600512976716\n",
            "Hidden Layers: [128, 128], Batch Size: 64, Learning Rate: 0.0001\n",
            "Hidden Layers: [256, 256], Batch Size: 64, Learning Rate: 0.0001\n",
            "Hidden Layers: [64, 64], Batch Size: 64, Learning Rate: 0.0005\n",
            "Hidden Layers: [128, 128], Batch Size: 64, Learning Rate: 0.0005\n",
            "Hidden Layers: [256, 256], Batch Size: 64, Learning Rate: 0.0005\n",
            "Hidden Layers: [64, 64], Batch Size: 128, Learning Rate: 0.0001\n",
            "Hidden Layers: [128, 128], Batch Size: 128, Learning Rate: 0.0001\n",
            "Hidden Layers: [256, 256], Batch Size: 128, Learning Rate: 0.0001\n",
            "Hidden Layers: [64, 64], Batch Size: 128, Learning Rate: 0.0005\n",
            "Hidden Layers: [128, 128], Batch Size: 128, Learning Rate: 0.0005\n",
            "Hidden Layers: [256, 256], Batch Size: 128, Learning Rate: 0.0005\n",
            "Hidden Layers: [64, 64], Batch Size: 256, Learning Rate: 0.0001\n",
            "Hidden Layers: [128, 128], Batch Size: 256, Learning Rate: 0.0001\n",
            "Hidden Layers: [256, 256], Batch Size: 256, Learning Rate: 0.0001\n",
            "Hidden Layers: [64, 64], Batch Size: 256, Learning Rate: 0.0005\n",
            "Hidden Layers: [128, 128], Batch Size: 256, Learning Rate: 0.0005\n",
            "New Best Validation Loss: 401.9373924601047\n",
            "Hidden Layers: [256, 256], Batch Size: 256, Learning Rate: 0.0005\n",
            "Hidden Layers: [64, 64, 64], Batch Size: 64, Learning Rate: 0.0001\n",
            "Hidden Layers: [128, 128, 128], Batch Size: 64, Learning Rate: 0.0001\n",
            "Hidden Layers: [256, 256, 256], Batch Size: 64, Learning Rate: 0.0001\n",
            "Hidden Layers: [64, 64, 64], Batch Size: 64, Learning Rate: 0.0005\n",
            "Hidden Layers: [128, 128, 128], Batch Size: 64, Learning Rate: 0.0005\n",
            "Hidden Layers: [256, 256, 256], Batch Size: 64, Learning Rate: 0.0005\n",
            "Hidden Layers: [64, 64, 64], Batch Size: 128, Learning Rate: 0.0001\n",
            "Hidden Layers: [128, 128, 128], Batch Size: 128, Learning Rate: 0.0001\n",
            "Hidden Layers: [256, 256, 256], Batch Size: 128, Learning Rate: 0.0001\n",
            "Hidden Layers: [64, 64, 64], Batch Size: 128, Learning Rate: 0.0005\n",
            "Hidden Layers: [128, 128, 128], Batch Size: 128, Learning Rate: 0.0005\n",
            "Hidden Layers: [256, 256, 256], Batch Size: 128, Learning Rate: 0.0005\n",
            "Hidden Layers: [64, 64, 64], Batch Size: 256, Learning Rate: 0.0001\n",
            "New Best Validation Loss: 377.32574821354234\n",
            "Hidden Layers: [128, 128, 128], Batch Size: 256, Learning Rate: 0.0001\n",
            "Hidden Layers: [256, 256, 256], Batch Size: 256, Learning Rate: 0.0001\n",
            "Hidden Layers: [64, 64, 64], Batch Size: 256, Learning Rate: 0.0005\n",
            "Hidden Layers: [128, 128, 128], Batch Size: 256, Learning Rate: 0.0005\n",
            "Hidden Layers: [256, 256, 256], Batch Size: 256, Learning Rate: 0.0005\n",
            "Hidden Layers: [64, 64, 64, 64], Batch Size: 64, Learning Rate: 0.0001\n",
            "Hidden Layers: [128, 128, 128, 128], Batch Size: 64, Learning Rate: 0.0001\n",
            "Hidden Layers: [256, 256, 256, 256], Batch Size: 64, Learning Rate: 0.0001\n",
            "New Best Validation Loss: 375.9020424737901\n",
            "Hidden Layers: [64, 64, 64, 64], Batch Size: 64, Learning Rate: 0.0005\n",
            "Hidden Layers: [128, 128, 128, 128], Batch Size: 64, Learning Rate: 0.0005\n",
            "Hidden Layers: [256, 256, 256, 256], Batch Size: 64, Learning Rate: 0.0005\n",
            "Hidden Layers: [64, 64, 64, 64], Batch Size: 128, Learning Rate: 0.0001\n",
            "Hidden Layers: [128, 128, 128, 128], Batch Size: 128, Learning Rate: 0.0001\n",
            "Hidden Layers: [256, 256, 256, 256], Batch Size: 128, Learning Rate: 0.0001\n",
            "Hidden Layers: [64, 64, 64, 64], Batch Size: 128, Learning Rate: 0.0005\n",
            "Hidden Layers: [128, 128, 128, 128], Batch Size: 128, Learning Rate: 0.0005\n",
            "Hidden Layers: [256, 256, 256, 256], Batch Size: 128, Learning Rate: 0.0005\n",
            "Hidden Layers: [64, 64, 64, 64], Batch Size: 256, Learning Rate: 0.0001\n",
            "Hidden Layers: [128, 128, 128, 128], Batch Size: 256, Learning Rate: 0.0001\n",
            "Hidden Layers: [256, 256, 256, 256], Batch Size: 256, Learning Rate: 0.0001\n",
            "Hidden Layers: [64, 64, 64, 64], Batch Size: 256, Learning Rate: 0.0005\n",
            "Hidden Layers: [128, 128, 128, 128], Batch Size: 256, Learning Rate: 0.0005\n",
            "Hidden Layers: [256, 256, 256, 256], Batch Size: 256, Learning Rate: 0.0005\n"
          ]
        }
      ]
    },
    {
      "cell_type": "code",
      "source": [
        "train_loader = torch.utils.data.DataLoader(train_dataset, batch_size=64, shuffle=True)\n",
        "best_model = train_mlp(X_train, y_train, X_test, y_test, train_loader, [256, 256, 256, 256], lr=0.0001, normalization='LN', early_stopping_patience=5)"
      ],
      "metadata": {
        "colab": {
          "base_uri": "https://localhost:8080/"
        },
        "id": "EVtT1txy1xps",
        "outputId": "5b76faf0-a3db-4804-f78c-bf60d7a5a5f0"
      },
      "execution_count": null,
      "outputs": [
        {
          "output_type": "stream",
          "name": "stdout",
          "text": [
            "Epoch 1/100, Validation Loss: 1623.4255\n",
            "Epoch 2/100, Validation Loss: 1412.0006\n",
            "Epoch 3/100, Validation Loss: 1307.1887\n",
            "Epoch 4/100, Validation Loss: 1155.5901\n",
            "Epoch 5/100, Validation Loss: 1040.4102\n",
            "Epoch 6/100, Validation Loss: 988.1427\n",
            "Epoch 7/100, Validation Loss: 860.6740\n",
            "Epoch 8/100, Validation Loss: 795.4144\n",
            "Epoch 9/100, Validation Loss: 750.2885\n",
            "Epoch 10/100, Validation Loss: 664.1498\n",
            "Epoch 11/100, Validation Loss: 638.6600\n",
            "Epoch 12/100, Validation Loss: 662.6902\n",
            "Epoch 13/100, Validation Loss: 584.9508\n",
            "Epoch 14/100, Validation Loss: 580.7018\n",
            "Epoch 15/100, Validation Loss: 560.8780\n",
            "Epoch 16/100, Validation Loss: 552.3757\n",
            "Epoch 17/100, Validation Loss: 542.1787\n",
            "Epoch 18/100, Validation Loss: 535.9440\n",
            "Epoch 19/100, Validation Loss: 582.6283\n",
            "Epoch 20/100, Validation Loss: 500.6287\n",
            "Epoch 21/100, Validation Loss: 593.6927\n",
            "Epoch 22/100, Validation Loss: 487.7515\n",
            "Epoch 23/100, Validation Loss: 497.6518\n",
            "Epoch 24/100, Validation Loss: 464.1179\n",
            "Epoch 25/100, Validation Loss: 455.6354\n",
            "Epoch 26/100, Validation Loss: 528.7134\n",
            "Epoch 27/100, Validation Loss: 447.4163\n",
            "Epoch 28/100, Validation Loss: 472.6499\n",
            "Epoch 29/100, Validation Loss: 425.9730\n",
            "Epoch 30/100, Validation Loss: 433.6593\n",
            "Epoch 31/100, Validation Loss: 408.7227\n",
            "Epoch 32/100, Validation Loss: 392.3919\n",
            "Epoch 33/100, Validation Loss: 449.9520\n",
            "Epoch 34/100, Validation Loss: 399.4420\n",
            "Epoch 35/100, Validation Loss: 381.4070\n",
            "Epoch 36/100, Validation Loss: 399.7735\n",
            "Epoch 37/100, Validation Loss: 376.5838\n",
            "Epoch 38/100, Validation Loss: 370.2912\n",
            "Epoch 39/100, Validation Loss: 368.2494\n",
            "Epoch 40/100, Validation Loss: 348.8792\n",
            "Epoch 41/100, Validation Loss: 325.9449\n",
            "Epoch 42/100, Validation Loss: 318.2086\n",
            "Epoch 43/100, Validation Loss: 315.4181\n",
            "Epoch 44/100, Validation Loss: 376.3677\n",
            "Epoch 45/100, Validation Loss: 292.9637\n",
            "Epoch 46/100, Validation Loss: 348.2483\n",
            "Epoch 47/100, Validation Loss: 279.1408\n",
            "Epoch 48/100, Validation Loss: 257.4078\n",
            "Epoch 49/100, Validation Loss: 247.2741\n",
            "Epoch 50/100, Validation Loss: 292.6483\n",
            "Epoch 51/100, Validation Loss: 327.3452\n",
            "Epoch 52/100, Validation Loss: 242.1813\n",
            "Epoch 53/100, Validation Loss: 273.0671\n",
            "Epoch 54/100, Validation Loss: 194.7662\n",
            "Epoch 55/100, Validation Loss: 211.2961\n",
            "Epoch 56/100, Validation Loss: 261.1336\n",
            "Epoch 57/100, Validation Loss: 316.6747\n",
            "Epoch 58/100, Validation Loss: 232.5459\n",
            "Epoch 59/100, Validation Loss: 285.8170\n",
            "Early stopping triggered after 59 epochs\n"
          ]
        }
      ]
    },
    {
      "cell_type": "code",
      "source": [
        "mlp = MLP(90, [256, 256, 256, 256], normalization='LN')\n",
        "mlp.load_state_dict(torch.load('best_mlp.pth'))"
      ],
      "metadata": {
        "colab": {
          "base_uri": "https://localhost:8080/"
        },
        "id": "GpN31Mgz90qH",
        "outputId": "371468bd-612e-41e6-cb4a-860a5e1f4100"
      },
      "execution_count": 19,
      "outputs": [
        {
          "output_type": "execute_result",
          "data": {
            "text/plain": [
              "<All keys matched successfully>"
            ]
          },
          "metadata": {},
          "execution_count": 19
        }
      ]
    },
    {
      "cell_type": "code",
      "source": [
        "backtest_df = get_features_df(stock_df, tickers, BACKTEST_START_DATE, BACKTEST_END_DATE, mode='backtest', task='regression')"
      ],
      "metadata": {
        "id": "Y3JYSbUwV-P_"
      },
      "execution_count": 11,
      "outputs": []
    },
    {
      "cell_type": "code",
      "source": [
        "import torch\n",
        "import torch.nn as nn\n",
        "\n",
        "class LSTM(nn.Module):\n",
        "    def __init__(self, input_size, hidden_size, num_layers):\n",
        "        super(LSTM, self).__init__()\n",
        "        self.hidden_size = hidden_size\n",
        "        self.num_layers = num_layers\n",
        "        self.lstm = nn.LSTM(input_size, hidden_size, num_layers, batch_first=True)\n",
        "        self.fc = nn.Linear(hidden_size, 1)\n",
        "\n",
        "    def forward(self, x):\n",
        "        h0 = torch.zeros(self.num_layers, x.size(0), self.hidden_size).to(x.device)\n",
        "        c0 = torch.zeros(self.num_layers, x.size(0), self.hidden_size).to(x.device)\n",
        "        out, _ = self.lstm(x, (h0, c0))\n",
        "        out = self.fc(out[:, -1, :])\n",
        "        return out.squeeze()"
      ],
      "metadata": {
        "id": "YYNKYOW0G7Su"
      },
      "execution_count": 13,
      "outputs": []
    },
    {
      "cell_type": "code",
      "source": [
        "from data_preparation import get_rnn_dataset\n",
        "train_dataset, test_dataset, feature_columns = get_rnn_dataset(backtest_df, 5)"
      ],
      "metadata": {
        "id": "ICGUinVWGkNh"
      },
      "execution_count": 14,
      "outputs": []
    },
    {
      "cell_type": "code",
      "source": [
        "import torch.optim as optim\n",
        "from sklearn.metrics import mean_squared_error\n",
        "\n",
        "def train_rnn(model, train_loader, val_loader, lr=0.001, epochs=100, early_stopping_patience=10, log=True, rnn_type='lstm'):\n",
        "    criterion = nn.MSELoss()\n",
        "    optimizer = optim.Adam(model.parameters(), lr=lr)\n",
        "\n",
        "    best_val_loss = float('inf')\n",
        "    epochs_without_improvement = 0\n",
        "\n",
        "    for epoch in range(epochs):\n",
        "        model.train()\n",
        "        train_loss = 0.0\n",
        "        for batch_X, batch_y in train_loader:\n",
        "            batch_X, batch_y = batch_X.to(device), batch_y.to(device)\n",
        "\n",
        "            optimizer.zero_grad()\n",
        "            outputs = model(batch_X)\n",
        "            loss = criterion(outputs, batch_y)\n",
        "            loss.backward()\n",
        "            optimizer.step()\n",
        "\n",
        "            train_loss += loss.item()\n",
        "\n",
        "        train_loss /= len(train_loader)\n",
        "\n",
        "        model.eval()\n",
        "        all_val_outputs = []\n",
        "        all_val_targets = []\n",
        "        with torch.no_grad():\n",
        "            for batch_X, batch_y in val_loader:\n",
        "                batch_X, batch_y = batch_X.to(device), batch_y.to(device)\n",
        "                outputs = model(batch_X)\n",
        "                all_val_outputs.append(outputs.cpu().numpy())\n",
        "                all_val_targets.append(batch_y.cpu().numpy())\n",
        "\n",
        "        all_val_outputs = np.concatenate(all_val_outputs)\n",
        "        all_val_targets = np.concatenate(all_val_targets)\n",
        "\n",
        "        val_loss = mean_squared_error(all_val_targets, all_val_outputs)\n",
        "\n",
        "        if log:\n",
        "            print(f\"Epoch {epoch+1}/{epochs}, Validation MSE: {val_loss:.4f}\")\n",
        "\n",
        "        if val_loss < best_val_loss:\n",
        "            best_val_loss = val_loss\n",
        "            epochs_without_improvement = 0\n",
        "            torch.save(model.state_dict(), f'best_{rnn_type}.pth')\n",
        "        else:\n",
        "            epochs_without_improvement += 1\n",
        "            if epochs_without_improvement >= early_stopping_patience:\n",
        "                if log:\n",
        "                    print(f\"Early stopping triggered after {epoch+1} epochs\")\n",
        "                break\n",
        "\n",
        "    model.load_state_dict(torch.load(f'best_{rnn_type}.pth'))\n",
        "    return model"
      ],
      "metadata": {
        "id": "o3UrXQarGxL4"
      },
      "execution_count": 22,
      "outputs": []
    },
    {
      "cell_type": "code",
      "source": [
        "from torch.utils.data import DataLoader\n",
        "\n",
        "input_size = len(feature_columns)\n",
        "hidden_size = 64\n",
        "num_layers = 2\n",
        "\n",
        "lstm = LSTM(input_size, hidden_size, num_layers)\n",
        "train_loader = DataLoader(train_dataset, batch_size=64, shuffle=True)\n",
        "test_loader = DataLoader(test_dataset, batch_size=64, shuffle=False)\n",
        "\n",
        "lstm = LSTM(input_size, hidden_size, num_layers).to(device)\n",
        "train_rnn(lstm, train_loader, test_loader, lr=0.0005, early_stopping_patience=5, rnn_type='lstm')"
      ],
      "metadata": {
        "colab": {
          "base_uri": "https://localhost:8080/",
          "height": 391
        },
        "id": "YnxexVOCKmrw",
        "outputId": "81976058-e0f3-4696-94e6-b81b2f53c4d5"
      },
      "execution_count": 24,
      "outputs": [
        {
          "output_type": "stream",
          "name": "stdout",
          "text": [
            "Epoch 1/100, Validation MSE: 9192.3945\n",
            "Epoch 2/100, Validation MSE: 8853.9541\n",
            "Epoch 3/100, Validation MSE: 8405.2441\n"
          ]
        },
        {
          "output_type": "error",
          "ename": "KeyboardInterrupt",
          "evalue": "",
          "traceback": [
            "\u001b[0;31m---------------------------------------------------------------------------\u001b[0m",
            "\u001b[0;31mKeyboardInterrupt\u001b[0m                         Traceback (most recent call last)",
            "\u001b[0;32m<ipython-input-24-e0fad0345d79>\u001b[0m in \u001b[0;36m<cell line: 13>\u001b[0;34m()\u001b[0m\n\u001b[1;32m     11\u001b[0m \u001b[0mlstm\u001b[0m \u001b[0;34m=\u001b[0m \u001b[0mLSTM\u001b[0m\u001b[0;34m(\u001b[0m\u001b[0minput_size\u001b[0m\u001b[0;34m,\u001b[0m \u001b[0mhidden_size\u001b[0m\u001b[0;34m,\u001b[0m \u001b[0mnum_layers\u001b[0m\u001b[0;34m)\u001b[0m\u001b[0;34m.\u001b[0m\u001b[0mto\u001b[0m\u001b[0;34m(\u001b[0m\u001b[0mdevice\u001b[0m\u001b[0;34m)\u001b[0m\u001b[0;34m\u001b[0m\u001b[0;34m\u001b[0m\u001b[0m\n\u001b[1;32m     12\u001b[0m \u001b[0;34m\u001b[0m\u001b[0m\n\u001b[0;32m---> 13\u001b[0;31m \u001b[0mtrain_rnn\u001b[0m\u001b[0;34m(\u001b[0m\u001b[0mlstm\u001b[0m\u001b[0;34m,\u001b[0m \u001b[0mtrain_loader\u001b[0m\u001b[0;34m,\u001b[0m \u001b[0mtest_loader\u001b[0m\u001b[0;34m,\u001b[0m \u001b[0mlr\u001b[0m\u001b[0;34m=\u001b[0m\u001b[0;36m0.0005\u001b[0m\u001b[0;34m,\u001b[0m \u001b[0mearly_stopping_patience\u001b[0m\u001b[0;34m=\u001b[0m\u001b[0;36m5\u001b[0m\u001b[0;34m,\u001b[0m \u001b[0mrnn_type\u001b[0m\u001b[0;34m=\u001b[0m\u001b[0;34m'lstm'\u001b[0m\u001b[0;34m)\u001b[0m\u001b[0;34m\u001b[0m\u001b[0;34m\u001b[0m\u001b[0m\n\u001b[0m",
            "\u001b[0;32m<ipython-input-22-75d12d5deb62>\u001b[0m in \u001b[0;36mtrain_rnn\u001b[0;34m(model, train_loader, val_loader, lr, epochs, early_stopping_patience, log, rnn_type)\u001b[0m\n\u001b[1;32m     19\u001b[0m             \u001b[0mloss\u001b[0m \u001b[0;34m=\u001b[0m \u001b[0mcriterion\u001b[0m\u001b[0;34m(\u001b[0m\u001b[0moutputs\u001b[0m\u001b[0;34m,\u001b[0m \u001b[0mbatch_y\u001b[0m\u001b[0;34m)\u001b[0m\u001b[0;34m\u001b[0m\u001b[0;34m\u001b[0m\u001b[0m\n\u001b[1;32m     20\u001b[0m             \u001b[0mloss\u001b[0m\u001b[0;34m.\u001b[0m\u001b[0mbackward\u001b[0m\u001b[0;34m(\u001b[0m\u001b[0;34m)\u001b[0m\u001b[0;34m\u001b[0m\u001b[0;34m\u001b[0m\u001b[0m\n\u001b[0;32m---> 21\u001b[0;31m             \u001b[0moptimizer\u001b[0m\u001b[0;34m.\u001b[0m\u001b[0mstep\u001b[0m\u001b[0;34m(\u001b[0m\u001b[0;34m)\u001b[0m\u001b[0;34m\u001b[0m\u001b[0;34m\u001b[0m\u001b[0m\n\u001b[0m\u001b[1;32m     22\u001b[0m \u001b[0;34m\u001b[0m\u001b[0m\n\u001b[1;32m     23\u001b[0m             \u001b[0mtrain_loss\u001b[0m \u001b[0;34m+=\u001b[0m \u001b[0mloss\u001b[0m\u001b[0;34m.\u001b[0m\u001b[0mitem\u001b[0m\u001b[0;34m(\u001b[0m\u001b[0;34m)\u001b[0m\u001b[0;34m\u001b[0m\u001b[0;34m\u001b[0m\u001b[0m\n",
            "\u001b[0;32m/usr/local/lib/python3.10/dist-packages/torch/optim/optimizer.py\u001b[0m in \u001b[0;36mwrapper\u001b[0;34m(*args, **kwargs)\u001b[0m\n\u001b[1;32m    389\u001b[0m                             )\n\u001b[1;32m    390\u001b[0m \u001b[0;34m\u001b[0m\u001b[0m\n\u001b[0;32m--> 391\u001b[0;31m                 \u001b[0mout\u001b[0m \u001b[0;34m=\u001b[0m \u001b[0mfunc\u001b[0m\u001b[0;34m(\u001b[0m\u001b[0;34m*\u001b[0m\u001b[0margs\u001b[0m\u001b[0;34m,\u001b[0m \u001b[0;34m**\u001b[0m\u001b[0mkwargs\u001b[0m\u001b[0;34m)\u001b[0m\u001b[0;34m\u001b[0m\u001b[0;34m\u001b[0m\u001b[0m\n\u001b[0m\u001b[1;32m    392\u001b[0m                 \u001b[0mself\u001b[0m\u001b[0;34m.\u001b[0m\u001b[0m_optimizer_step_code\u001b[0m\u001b[0;34m(\u001b[0m\u001b[0;34m)\u001b[0m\u001b[0;34m\u001b[0m\u001b[0;34m\u001b[0m\u001b[0m\n\u001b[1;32m    393\u001b[0m \u001b[0;34m\u001b[0m\u001b[0m\n",
            "\u001b[0;32m/usr/local/lib/python3.10/dist-packages/torch/optim/optimizer.py\u001b[0m in \u001b[0;36m_use_grad\u001b[0;34m(self, *args, **kwargs)\u001b[0m\n\u001b[1;32m     74\u001b[0m             \u001b[0mtorch\u001b[0m\u001b[0;34m.\u001b[0m\u001b[0mset_grad_enabled\u001b[0m\u001b[0;34m(\u001b[0m\u001b[0mself\u001b[0m\u001b[0;34m.\u001b[0m\u001b[0mdefaults\u001b[0m\u001b[0;34m[\u001b[0m\u001b[0;34m'differentiable'\u001b[0m\u001b[0;34m]\u001b[0m\u001b[0;34m)\u001b[0m\u001b[0;34m\u001b[0m\u001b[0;34m\u001b[0m\u001b[0m\n\u001b[1;32m     75\u001b[0m             \u001b[0mtorch\u001b[0m\u001b[0;34m.\u001b[0m\u001b[0m_dynamo\u001b[0m\u001b[0;34m.\u001b[0m\u001b[0mgraph_break\u001b[0m\u001b[0;34m(\u001b[0m\u001b[0;34m)\u001b[0m\u001b[0;34m\u001b[0m\u001b[0;34m\u001b[0m\u001b[0m\n\u001b[0;32m---> 76\u001b[0;31m             \u001b[0mret\u001b[0m \u001b[0;34m=\u001b[0m \u001b[0mfunc\u001b[0m\u001b[0;34m(\u001b[0m\u001b[0mself\u001b[0m\u001b[0;34m,\u001b[0m \u001b[0;34m*\u001b[0m\u001b[0margs\u001b[0m\u001b[0;34m,\u001b[0m \u001b[0;34m**\u001b[0m\u001b[0mkwargs\u001b[0m\u001b[0;34m)\u001b[0m\u001b[0;34m\u001b[0m\u001b[0;34m\u001b[0m\u001b[0m\n\u001b[0m\u001b[1;32m     77\u001b[0m         \u001b[0;32mfinally\u001b[0m\u001b[0;34m:\u001b[0m\u001b[0;34m\u001b[0m\u001b[0;34m\u001b[0m\u001b[0m\n\u001b[1;32m     78\u001b[0m             \u001b[0mtorch\u001b[0m\u001b[0;34m.\u001b[0m\u001b[0m_dynamo\u001b[0m\u001b[0;34m.\u001b[0m\u001b[0mgraph_break\u001b[0m\u001b[0;34m(\u001b[0m\u001b[0;34m)\u001b[0m\u001b[0;34m\u001b[0m\u001b[0;34m\u001b[0m\u001b[0m\n",
            "\u001b[0;32m/usr/local/lib/python3.10/dist-packages/torch/optim/adam.py\u001b[0m in \u001b[0;36mstep\u001b[0;34m(self, closure)\u001b[0m\n\u001b[1;32m    166\u001b[0m                 state_steps)\n\u001b[1;32m    167\u001b[0m \u001b[0;34m\u001b[0m\u001b[0m\n\u001b[0;32m--> 168\u001b[0;31m             adam(\n\u001b[0m\u001b[1;32m    169\u001b[0m                 \u001b[0mparams_with_grad\u001b[0m\u001b[0;34m,\u001b[0m\u001b[0;34m\u001b[0m\u001b[0;34m\u001b[0m\u001b[0m\n\u001b[1;32m    170\u001b[0m                 \u001b[0mgrads\u001b[0m\u001b[0;34m,\u001b[0m\u001b[0;34m\u001b[0m\u001b[0;34m\u001b[0m\u001b[0m\n",
            "\u001b[0;32m/usr/local/lib/python3.10/dist-packages/torch/optim/adam.py\u001b[0m in \u001b[0;36madam\u001b[0;34m(params, grads, exp_avgs, exp_avg_sqs, max_exp_avg_sqs, state_steps, foreach, capturable, differentiable, fused, grad_scale, found_inf, has_complex, amsgrad, beta1, beta2, lr, weight_decay, eps, maximize)\u001b[0m\n\u001b[1;32m    316\u001b[0m         \u001b[0mfunc\u001b[0m \u001b[0;34m=\u001b[0m \u001b[0m_single_tensor_adam\u001b[0m\u001b[0;34m\u001b[0m\u001b[0;34m\u001b[0m\u001b[0m\n\u001b[1;32m    317\u001b[0m \u001b[0;34m\u001b[0m\u001b[0m\n\u001b[0;32m--> 318\u001b[0;31m     func(params,\n\u001b[0m\u001b[1;32m    319\u001b[0m          \u001b[0mgrads\u001b[0m\u001b[0;34m,\u001b[0m\u001b[0;34m\u001b[0m\u001b[0;34m\u001b[0m\u001b[0m\n\u001b[1;32m    320\u001b[0m          \u001b[0mexp_avgs\u001b[0m\u001b[0;34m,\u001b[0m\u001b[0;34m\u001b[0m\u001b[0;34m\u001b[0m\u001b[0m\n",
            "\u001b[0;32m/usr/local/lib/python3.10/dist-packages/torch/optim/adam.py\u001b[0m in \u001b[0;36m_multi_tensor_adam\u001b[0;34m(params, grads, exp_avgs, exp_avg_sqs, max_exp_avg_sqs, state_steps, grad_scale, found_inf, amsgrad, has_complex, beta1, beta2, lr, weight_decay, eps, maximize, capturable, differentiable)\u001b[0m\n\u001b[1;32m    508\u001b[0m         \u001b[0;31m# wrapped it once now. The alpha is required to assure we go to the right overload.\u001b[0m\u001b[0;34m\u001b[0m\u001b[0;34m\u001b[0m\u001b[0m\n\u001b[1;32m    509\u001b[0m         \u001b[0;32mif\u001b[0m \u001b[0mdevice_state_steps\u001b[0m\u001b[0;34m[\u001b[0m\u001b[0;36m0\u001b[0m\u001b[0;34m]\u001b[0m\u001b[0;34m.\u001b[0m\u001b[0mis_cpu\u001b[0m\u001b[0;34m:\u001b[0m\u001b[0;34m\u001b[0m\u001b[0;34m\u001b[0m\u001b[0m\n\u001b[0;32m--> 510\u001b[0;31m             \u001b[0mtorch\u001b[0m\u001b[0;34m.\u001b[0m\u001b[0m_foreach_add_\u001b[0m\u001b[0;34m(\u001b[0m\u001b[0mdevice_state_steps\u001b[0m\u001b[0;34m,\u001b[0m \u001b[0mtorch\u001b[0m\u001b[0;34m.\u001b[0m\u001b[0mtensor\u001b[0m\u001b[0;34m(\u001b[0m\u001b[0;36m1.0\u001b[0m\u001b[0;34m,\u001b[0m \u001b[0mdevice\u001b[0m\u001b[0;34m=\u001b[0m\u001b[0;34m'cpu'\u001b[0m\u001b[0;34m)\u001b[0m\u001b[0;34m,\u001b[0m \u001b[0malpha\u001b[0m\u001b[0;34m=\u001b[0m\u001b[0;36m1.0\u001b[0m\u001b[0;34m)\u001b[0m\u001b[0;34m\u001b[0m\u001b[0;34m\u001b[0m\u001b[0m\n\u001b[0m\u001b[1;32m    511\u001b[0m         \u001b[0;32melse\u001b[0m\u001b[0;34m:\u001b[0m\u001b[0;34m\u001b[0m\u001b[0;34m\u001b[0m\u001b[0m\n\u001b[1;32m    512\u001b[0m             \u001b[0mtorch\u001b[0m\u001b[0;34m.\u001b[0m\u001b[0m_foreach_add_\u001b[0m\u001b[0;34m(\u001b[0m\u001b[0mdevice_state_steps\u001b[0m\u001b[0;34m,\u001b[0m \u001b[0;36m1\u001b[0m\u001b[0;34m)\u001b[0m\u001b[0;34m\u001b[0m\u001b[0;34m\u001b[0m\u001b[0m\n",
            "\u001b[0;31mKeyboardInterrupt\u001b[0m: "
          ]
        }
      ]
    }
  ]
}