{
  "cells": [
    {
      "cell_type": "code",
      "execution_count": null,
      "metadata": {
        "id": "9Jqn2ALjCToR"
      },
      "outputs": [],
      "source": [
        "!pip install -q kaggle"
      ]
    },
    {
      "cell_type": "code",
      "execution_count": null,
      "metadata": {
        "collapsed": true,
        "id": "W5whoOOoCVuv"
      },
      "outputs": [],
      "source": [
        "from google.colab import files\n",
        "files.upload()"
      ]
    },
    {
      "cell_type": "code",
      "execution_count": null,
      "metadata": {
        "id": "N5Wg3BOmCYWQ",
        "colab": {
          "base_uri": "https://localhost:8080/"
        },
        "outputId": "9bc21118-10df-4095-dd78-4459f3a6508f"
      },
      "outputs": [
        {
          "output_type": "stream",
          "name": "stdout",
          "text": [
            "mkdir: cannot create directory ‘/root/.kaggle’: File exists\n"
          ]
        }
      ],
      "source": [
        "!mkdir ~/.kaggle\n",
        "!cp kaggle.json ~/.kaggle/\n",
        "!chmod 600 ~/.kaggle/kaggle.json"
      ]
    },
    {
      "cell_type": "code",
      "execution_count": null,
      "metadata": {
        "colab": {
          "base_uri": "https://localhost:8080/"
        },
        "id": "FD4uU4cmBvKS",
        "outputId": "0c16829a-0290-495c-ee46-d60c6832f772"
      },
      "outputs": [
        {
          "output_type": "stream",
          "name": "stdout",
          "text": [
            "Dataset URL: https://www.kaggle.com/datasets/borismarjanovic/price-volume-data-for-all-us-stocks-etfs\n",
            "License(s): CC0-1.0\n",
            "price-volume-data-for-all-us-stocks-etfs.zip: Skipping, found more recently modified local copy (use --force to force download)\n"
          ]
        }
      ],
      "source": [
        "!kaggle datasets download -d borismarjanovic/price-volume-data-for-all-us-stocks-etfs"
      ]
    },
    {
      "cell_type": "code",
      "execution_count": null,
      "metadata": {
        "id": "Qmi0pM8FE3ho"
      },
      "outputs": [],
      "source": [
        "import zipfile\n",
        "zip_ref = zipfile.ZipFile('price-volume-data-for-all-us-stocks-etfs.zip', 'r')\n",
        "zip_ref.extractall('/content')\n",
        "zip_ref.close()"
      ]
    },
    {
      "cell_type": "code",
      "execution_count": null,
      "metadata": {
        "id": "cLLBCjyz0667"
      },
      "outputs": [],
      "source": [
        "import pandas as pd\n",
        "tickers = pd.read_csv('SP Tickers.csv')\n",
        "tickers = set(tickers['symbol'].tolist())"
      ]
    },
    {
      "cell_type": "code",
      "execution_count": null,
      "metadata": {
        "id": "hc2PBWNjGE8X"
      },
      "outputs": [],
      "source": [
        "import os\n",
        "import pandas as pd\n",
        "from pandas.errors import EmptyDataError\n",
        "\n",
        "dataframes = []\n",
        "directory = os.path.join(os.getcwd() + '/Stocks')\n",
        "\n",
        "for filename in os.listdir(directory):\n",
        "    if filename.endswith('.txt'):\n",
        "        ticker = filename.replace('.us.txt', '').upper()\n",
        "        file_path = os.path.join(directory, filename)\n",
        "\n",
        "        if ticker not in tickers: # if the ticker isnt in our list, ignore it\n",
        "          continue\n",
        "\n",
        "        try:\n",
        "            df = pd.read_csv(file_path)\n",
        "            df['Ticker'] = ticker\n",
        "            df.sort_values('Date', inplace=True)\n",
        "            dataframes.append(df)\n",
        "        except EmptyDataError: # some of the files have no contents so read_csv throws error\n",
        "          pass\n",
        "\n",
        "stock_df = pd.concat(dataframes, ignore_index=True)\n",
        "\n",
        "stock_df['Date'] = pd.to_datetime(stock_df['Date'], format='%Y-%m-%d')"
      ]
    },
    {
      "cell_type": "code",
      "execution_count": null,
      "metadata": {
        "id": "raHdfDa5H8v_"
      },
      "outputs": [],
      "source": [
        "stock_df.tail()"
      ]
    },
    {
      "cell_type": "code",
      "execution_count": null,
      "metadata": {
        "id": "f01k9F7YyFsl"
      },
      "outputs": [],
      "source": [
        "TRAINING_START_DATE = pd.to_datetime(\"2005-01-01\")\n",
        "TRAINING_END_DATE = pd.to_datetime(\"2012-12-31\")"
      ]
    },
    {
      "cell_type": "code",
      "execution_count": null,
      "metadata": {
        "id": "jnfBqSF9Zsam"
      },
      "outputs": [],
      "source": [
        "!pip install ta"
      ]
    },
    {
      "cell_type": "code",
      "execution_count": null,
      "metadata": {
        "collapsed": true,
        "id": "Gq_mQp85YIWp"
      },
      "outputs": [],
      "source": [
        "import ta\n",
        "\n",
        "def get_features_df(stock_df, tickers, start_date, end_date):\n",
        "  dataframes = []\n",
        "  for ticker in tickers:\n",
        "      ticker_df = stock_df.loc[(stock_df['Ticker'] == ticker) & (stock_df['Date'] >= start_date) & (stock_df['Date'] <= end_date)].copy()\n",
        "\n",
        "      if not ticker_df.empty:\n",
        "          # Generate all TA features\n",
        "          ticker_df = ta.add_all_ta_features(\n",
        "              ticker_df, open=\"Open\", high=\"High\", low=\"Low\", close=\"Close\", volume=\"Volume\"\n",
        "          )\n",
        "          dataframes.append(ticker_df)\n",
        "\n",
        "  df = pd.concat(dataframes, ignore_index=True)\n",
        "  df.drop(['trend_psar_up', 'trend_psar_down'], axis=1, inplace=True) # these 2 generate issues with NaN entries\n",
        "  df.dropna(inplace=True)\n",
        "  return df"
      ]
    },
    {
      "cell_type": "code",
      "execution_count": null,
      "metadata": {
        "id": "g2e6BtrhrdUi"
      },
      "outputs": [],
      "source": [
        "stock_df = get_features_df(stock_df, tickers, TRAINING_START_DATE, TRAINING_END_DATE)"
      ]
    },
    {
      "cell_type": "code",
      "execution_count": null,
      "metadata": {
        "id": "vfHQ0txB8cWW"
      },
      "outputs": [],
      "source": [
        "import numpy as np\n",
        "stock_df['trading_signal'] = np.where(stock_df['Close'] >= stock_df['Open'], 1, -1)"
      ]
    },
    {
      "cell_type": "code",
      "execution_count": null,
      "metadata": {
        "collapsed": true,
        "id": "HGG-S1wj4q7h"
      },
      "outputs": [],
      "source": [
        "dataframes = []\n",
        "for ticker in tickers:\n",
        "    ticker_df = stock_df.loc[(stock_df['Ticker'] == ticker)]\n",
        "\n",
        "    if not ticker_df.empty:\n",
        "        for row in range(1, len(ticker_df)):\n",
        "            ticker_df.iloc[row-1, -1] = ticker_df.iloc[row, -1]\n",
        "\n",
        "        ticker_df.drop(ticker_df.tail(1).index,inplace=True) # drop last row\n",
        "        dataframes.append(ticker_df)\n",
        "\n",
        "train_df = pd.concat(dataframes, ignore_index=True)"
      ]
    },
    {
      "cell_type": "code",
      "execution_count": null,
      "metadata": {
        "id": "Oi1ifVZy07Jm"
      },
      "outputs": [],
      "source": [
        "train_df.head()"
      ]
    }
  ],
  "metadata": {
    "colab": {
      "provenance": []
    },
    "kernelspec": {
      "display_name": "Python 3",
      "name": "python3"
    },
    "language_info": {
      "name": "python"
    }
  },
  "nbformat": 4,
  "nbformat_minor": 0
}